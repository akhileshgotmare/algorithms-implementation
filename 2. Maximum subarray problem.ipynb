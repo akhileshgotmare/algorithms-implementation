{
 "cells": [
  {
   "cell_type": "markdown",
   "metadata": {},
   "source": [
    "Task is: given an array $A$, we need to return the subarray $A[i:j]$ such that sum of elements of this subarray is maximum over all the other subarray sums"
   ]
  },
  {
   "cell_type": "code",
   "execution_count": 13,
   "metadata": {
    "collapsed": true
   },
   "outputs": [],
   "source": [
    "A = [1,2,3,4,5,6,-5,-10,20,-45,6,57,2]"
   ]
  },
  {
   "cell_type": "markdown",
   "metadata": {},
   "source": [
    "Approach 1: Brute-Force method $\\theta (n^2)$ cost"
   ]
  },
  {
   "cell_type": "code",
   "execution_count": 14,
   "metadata": {
    "collapsed": true
   },
   "outputs": [],
   "source": [
    "import math"
   ]
  },
  {
   "cell_type": "code",
   "execution_count": 15,
   "metadata": {
    "collapsed": false
   },
   "outputs": [],
   "source": [
    "def brute_force(A):\n",
    "\n",
    "    tmp_best = -math.inf\n",
    "    for i in range(len(A)):\n",
    "        for j in range(i,len(A)):\n",
    "            sum_subarray = sum(A[i:j+1])\n",
    "            if sum_subarray >= tmp_best:\n",
    "                tmp_best = sum_subarray\n",
    "                tmp_best_ind1 = i\n",
    "                tmp_best_ind2 = j\n",
    "    return (tmp_best,tmp_best_ind1,tmp_best_ind2)"
   ]
  },
  {
   "cell_type": "code",
   "execution_count": 30,
   "metadata": {
    "collapsed": false
   },
   "outputs": [
    {
     "data": {
      "text/plain": [
       "(14, 2, 5)"
      ]
     },
     "execution_count": 30,
     "metadata": {},
     "output_type": "execute_result"
    }
   ],
   "source": [
    "A = [-2,-4,3,-1,5,7]\n",
    "brute_force(A)"
   ]
  },
  {
   "cell_type": "code",
   "execution_count": null,
   "metadata": {
    "collapsed": false
   },
   "outputs": [],
   "source": []
  },
  {
   "cell_type": "code",
   "execution_count": 31,
   "metadata": {
    "collapsed": false
   },
   "outputs": [
    {
     "data": {
      "text/plain": [
       "6"
      ]
     },
     "execution_count": 31,
     "metadata": {},
     "output_type": "execute_result"
    }
   ],
   "source": [
    "len(A)"
   ]
  },
  {
   "cell_type": "code",
   "execution_count": 37,
   "metadata": {
    "collapsed": false
   },
   "outputs": [
    {
     "name": "stdout",
     "output_type": "stream",
     "text": [
      "3\n",
      "4\n",
      "5\n"
     ]
    }
   ],
   "source": [
    "ind_1 = 0\n",
    "for i in range(2+1,5+1):\n",
    "    print(i)"
   ]
  },
  {
   "cell_type": "code",
   "execution_count": null,
   "metadata": {
    "collapsed": true
   },
   "outputs": [],
   "source": [
    "def find_max_subarray(A,left,right):\n",
    "    if left==right:\n",
    "        return(A[left],left,right)\n",
    "    #Divide step    \n",
    "    mid = math.floor((left+right)/2)\n",
    "    ind_1 = left\n",
    "    ind_2 = right\n",
    "    \n",
    "    left_max,left_ind1,left_ind2 = find_max_subarray(A,ind_1,mid)\n",
    "    right_max,right_ind1,right_ind2 = find_max_subarray(A,mid+1,ind_2)\n",
    "    cross_max,cross_ind1,cross_ind2 = find_max_crossing_subarray(A,ind_1,ind_2,mid)\n",
    "    \n",
    "    if left_max >= right_max and left_max >= cross_max:\n",
    "        return(left_max,left_ind1,left_ind2)\n",
    "    elif right_max >= left_max and right_max >= cross_max:\n",
    "        return(right_max,right_ind1,right_ind2)\n",
    "    else:\n",
    "        return(cross_max,cross_ind1,cross_ind2)\n",
    "    \n",
    "    \n",
    "def find_max_crossing_subarray(A,ind_1,ind_2,mid):\n",
    "    \n",
    "    # find maximum subarray of the form A[i:mid]\n",
    "    left_sum_tmp = -math.inf\n",
    "    for i in range(ind_1,mid+1):\n",
    "        \n",
    "        \n",
    "    # find maximum subarray of the form A[mid+1:j]\n",
    "    for i in range(mid+1,ind_2+1)\n",
    "    return (cross_max,cross_ind1,cross_ind2)"
   ]
  }
 ],
 "metadata": {
  "anaconda-cloud": {},
  "kernelspec": {
   "display_name": "Python [default]",
   "language": "python",
   "name": "python3"
  },
  "language_info": {
   "codemirror_mode": {
    "name": "ipython",
    "version": 3
   },
   "file_extension": ".py",
   "mimetype": "text/x-python",
   "name": "python",
   "nbconvert_exporter": "python",
   "pygments_lexer": "ipython3",
   "version": "3.5.2"
  }
 },
 "nbformat": 4,
 "nbformat_minor": 1
}
