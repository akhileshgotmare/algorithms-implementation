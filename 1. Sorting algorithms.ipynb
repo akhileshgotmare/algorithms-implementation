{
 "cells": [
  {
   "cell_type": "markdown",
   "metadata": {},
   "source": [
    "Python short tutorial - http://cs231n.github.io/python-numpy-tutorial"
   ]
  },
  {
   "cell_type": "markdown",
   "metadata": {},
   "source": [
    "Insertion sort - maintains the invariant that elements $A[1]$ to $A[j-1]$ are sorted and places the new/current element $A[j]$ in it's appropriate position in the subsequence $A[1 .. j]$"
   ]
  },
  {
   "cell_type": "code",
   "execution_count": 79,
   "metadata": {
    "collapsed": true
   },
   "outputs": [],
   "source": [
    "import math\n",
    "import numpy as np"
   ]
  },
  {
   "cell_type": "code",
   "execution_count": 9,
   "metadata": {
    "collapsed": true
   },
   "outputs": [],
   "source": [
    "A = [4,7,9,12,55,23,8] #specify the input sequence"
   ]
  },
  {
   "cell_type": "code",
   "execution_count": 11,
   "metadata": {
    "collapsed": false
   },
   "outputs": [
    {
     "data": {
      "text/plain": [
       "[4, 7, 8, 9, 12, 23, 55]"
      ]
     },
     "execution_count": 11,
     "metadata": {},
     "output_type": "execute_result"
    }
   ],
   "source": [
    "for j in range(1,len(A)):\n",
    "    #print(j)\n",
    "    key = A[j]\n",
    "    i = j-1\n",
    "    while i>0 and A[i]>key:\n",
    "        A[i+1] = A[i]\n",
    "        i -= 1\n",
    "    A[i+1] = key\n",
    "A   "
   ]
  },
  {
   "cell_type": "markdown",
   "metadata": {
    "collapsed": true
   },
   "source": [
    "Merge sort - recursively divide problem into smaller subproblems"
   ]
  },
  {
   "cell_type": "code",
   "execution_count": 196,
   "metadata": {
    "collapsed": false
   },
   "outputs": [],
   "source": [
    "def simple_sort(A):\n",
    "    assert len(A) <= 2\n",
    "\n",
    "    if len(A) == 1:\n",
    "            return A\n",
    "\n",
    "    if len(A) == 2:\n",
    "        if A[1] <= A[0]: \n",
    "            return [A[1],A[0]] # if a two element array is in wrong order, just reverse it for the right order\n",
    "        else:\n",
    "            return A # leave it the same if it is in the right order already\n",
    "\"\"\"No need to equate the two lengths (as implemented in the commented sub-routine below) - just add to each\n",
    "subsequence a special sentinel card 'inf' \"\"\"\n",
    "def combine_sub_new(a,b):\n",
    "    soln_len = len(a) + len(b) # store the solution length, as we'll add dummy elements to both the arrays\n",
    "    big_len = max(len(a),len(b)) + 1 # length of the bigger array + 1\n",
    "    a += [math.inf]\n",
    "    b += [math.inf]\n",
    "    \n",
    "    soln = [math.nan]*(len(a)+len(b)) # empty list (containing 'nan's)\n",
    "    \n",
    "    countr_a = 0  # current element counter for subseq a\n",
    "    countr_b = 0  # current element counter for subseq b\n",
    "    \n",
    "    for i in range(len(soln)):\n",
    "        if a[countr_a] <= b[countr_b]: # if the current element of a is less or eq to that of b, pass it to the soln \n",
    "            soln[i] = a[countr_a]\n",
    "            if countr_a != len(a)-1: \n",
    "                countr_a += 1          # and increment the current element counter if we haven't exhausted a yet\n",
    "                                       # don't increment (do nothing) if we've exhausted; curr element = inf in this case\n",
    "        else:\n",
    "            soln[i] = b[countr_b]      \n",
    "            if countr_b != len(b)-1:\n",
    "                countr_b += 1\n",
    "    return soln[0:soln_len]\n",
    "    \n",
    "def sort_array(A):\n",
    "    if len(A) <= 2:\n",
    "        return simple_sort(A) # if it's this small, use brute force to sort it\n",
    "    else:\n",
    "        i = int(len(A)/2) \n",
    "        sub_1 = A[0:i]        # first subsequence\n",
    "        sub_1 = sort_array(sub_1) # sort the first\n",
    "        sub_2 = A[i:]         # second subsequence \n",
    "        sub_2 = sort_array(sub_2) # sort the second\n",
    "        return combine_sub_new(sub_1,sub_2) # combine the two sorted ones"
   ]
  },
  {
   "cell_type": "code",
   "execution_count": 195,
   "metadata": {
    "collapsed": false,
    "scrolled": true
   },
   "outputs": [
    {
     "data": {
      "text/plain": [
       "[1, 2, 5, 6, 8, 9, 11, 12, 14, 27, 34]"
      ]
     },
     "execution_count": 195,
     "metadata": {},
     "output_type": "execute_result"
    }
   ],
   "source": [
    "sort_array([34,5,6,1,2,27,14,12,11,8,9])"
   ]
  },
  {
   "cell_type": "raw",
   "metadata": {},
   "source": [
    "\"\"\"No need to equate the two lengths (as implemented in the commented sub-routine below) - just add to each subsequence an \n",
    "sentinel card 'inf' \"\"\"\n",
    "# def combine_sub(a,b):\n",
    "#     soln_len = len(a) + len(b) # store the solution length, as we'll add dummy elements to both the arrays\n",
    "#     big_len = max(len(a),len(b)) + 1 # length of the bigger array + 1\n",
    "    \n",
    "#     if len(a) >= len(b):\n",
    "#         b += [math.inf] * (len(a) - len(b) + 1) # if a is longer add 1 + difference number of 'inf' to b\n",
    "#         a += [math.inf] # add one 'inf' to a\n",
    "\n",
    "#     if len(a) < len(b):\n",
    "#         a += [math.inf] * (len(b) - len(a) + 1) # if b is longer add 1 + difference number of 'inf' to a\n",
    "#         b += [math.inf] # add one 'inf' to b \n",
    "\n",
    "#     assert len(a) == len(b) # check if now the length is equal for the two subsequences\n",
    "    \n",
    "#     soln = [math.nan]*(2*len(a)) # empty list (containing 'nan's)\n",
    "    \n",
    "#     countr_a = 0  # current element counter for subseq a\n",
    "#     countr_b = 0  # current element counter for subseq b\n",
    "    \n",
    "#     for i in range(2*len(a)):\n",
    "#         if a[countr_a] <= b[countr_b]: # if the current element of a is less or eq to that of b, pass it to the soln\n",
    "#             soln[i] = a[countr_a]\n",
    "#             if countr_a != big_len -1:\n",
    "#                 countr_a += 1          # and increment the current element counter if we haven't exhausted a yet\n",
    "#                                        # don't increment (do nothing) if we've exhausted; curr element = inf in this case\n",
    "              \n",
    "#         else:\n",
    "#             soln[i] = b[countr_b]      # if b's current element is smaller, pass it to the solution\n",
    "#             if countr_b != big_len -1: # if we haven't exhausted b yet; increment it's current element counter\n",
    "#                 countr_b += 1\n",
    "#     return soln[0:soln_len]"
   ]
  },
  {
   "cell_type": "code",
   "execution_count": null,
   "metadata": {
    "collapsed": true
   },
   "outputs": [],
   "source": []
  }
 ],
 "metadata": {
  "anaconda-cloud": {},
  "kernelspec": {
   "display_name": "Python [default]",
   "language": "python",
   "name": "python3"
  },
  "language_info": {
   "codemirror_mode": {
    "name": "ipython",
    "version": 3
   },
   "file_extension": ".py",
   "mimetype": "text/x-python",
   "name": "python",
   "nbconvert_exporter": "python",
   "pygments_lexer": "ipython3",
   "version": "3.5.2"
  }
 },
 "nbformat": 4,
 "nbformat_minor": 1
}
